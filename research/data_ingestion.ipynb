{
 "cells": [
  {
   "cell_type": "code",
   "execution_count": 1,
   "metadata": {},
   "outputs": [],
   "source": [
    "import os "
   ]
  },
  {
   "cell_type": "code",
   "execution_count": 2,
   "metadata": {},
   "outputs": [
    {
     "data": {
      "text/plain": [
       "'c:\\\\Users\\\\US593\\\\OneDrive\\\\Desktop\\\\deep-coccidiosis-detection\\\\research'"
      ]
     },
     "execution_count": 2,
     "metadata": {},
     "output_type": "execute_result"
    }
   ],
   "source": [
    "%pwd"
   ]
  },
  {
   "cell_type": "code",
   "execution_count": 3,
   "metadata": {},
   "outputs": [],
   "source": [
    "os.chdir(\"../\")"
   ]
  },
  {
   "cell_type": "code",
   "execution_count": 4,
   "metadata": {},
   "outputs": [
    {
     "data": {
      "text/plain": [
       "'c:\\\\Users\\\\US593\\\\OneDrive\\\\Desktop\\\\deep-coccidiosis-detection'"
      ]
     },
     "execution_count": 4,
     "metadata": {},
     "output_type": "execute_result"
    }
   ],
   "source": [
    "%pwd"
   ]
  },
  {
   "cell_type": "code",
   "execution_count": 5,
   "metadata": {},
   "outputs": [],
   "source": [
    "from dataclasses import dataclass \n",
    "from pathlib import Path\n",
    "\n",
    "@dataclass(frozen=True)\n",
    "class DataIngestionConfig:\n",
    "    root_dir: Path\n",
    "    source_url: str\n",
    "    source_local_url: str\n",
    "    local_data_file: Path\n",
    "    unzip_dir: Path"
   ]
  },
  {
   "cell_type": "code",
   "execution_count": 6,
   "metadata": {},
   "outputs": [],
   "source": [
    "from src.cnnClassifier.constants import *\n",
    "from src.cnnClassifier.utils.utils import read_yaml, create_directories"
   ]
  },
  {
   "cell_type": "code",
   "execution_count": 7,
   "metadata": {},
   "outputs": [],
   "source": [
    "class ConfigurationManager:\n",
    "    def __init__(self,config_filepath=CONFIG_FILE_PATH,params_filepath=PARAMS_FILE_PATH):\n",
    "        self.config = read_yaml(config_filepath)\n",
    "        self.params = read_yaml(params_filepath)\n",
    "        create_directories([self.config.artifacts_root])\n",
    "\n",
    "    def get_data_ingestion_config(self) -> DataIngestionConfig:\n",
    "        config = self.config.data_ingestion\n",
    "        create_directories([config.root_dir])\n",
    "        data_ingestion_config = DataIngestionConfig(\n",
    "            root_dir = config.root_dir,\n",
    "            source_url = config.source_url,\n",
    "            source_local_url=config.source_local_url,\n",
    "            local_data_file = config.local_data_file,\n",
    "            unzip_dir = config.unzip_dir\n",
    "        )\n",
    "        return data_ingestion_config"
   ]
  },
  {
   "cell_type": "code",
   "execution_count": 9,
   "metadata": {},
   "outputs": [],
   "source": [
    "import os\n",
    "import sys\n",
    "import shutil\n",
    "import urllib.request as request\n",
    "from pathlib import Path\n",
    "import zipfile\n",
    "from src.cnnClassifier.logger import logging\n",
    "from src.cnnClassifier.exception import CustomException\n",
    "from src.cnnClassifier.utils.utils import get_size\n",
    "\n",
    "class DataIngestion:\n",
    "    def __init__(self, config: DataIngestionConfig):\n",
    "        self.config = config\n",
    "    \n",
    "    def copy_or_download_file(self):\n",
    "        source_file_path = self.config.source_local_url\n",
    "        try:\n",
    "            if source_file_path:  # Copy the file if source path is provided\n",
    "                if os.path.exists(source_file_path):\n",
    "                    if not os.path.exists(self.config.local_data_file):    \n",
    "                        shutil.copy2(source_file_path, self.config.local_data_file)\n",
    "                        logging.info(f\"File copied from {source_file_path} to {self.config.local_data_file}\")\n",
    "                    else:\n",
    "                        logging.info(f\"Local file already exists at: {self.config.local_data_file}\")\n",
    "                        logging.info(f\"File size: {get_size(Path(self.config.local_data_file))}\")\n",
    "                else:\n",
    "                    logging.info(f\"Source file not found: {source_file_path}\")\n",
    "                    raise FileNotFoundError(f\"Source file not found: {source_file_path}\")\n",
    "            else:  # Download the file if it doesn't already exist\n",
    "                if not os.path.exists(self.config.local_data_file):\n",
    "                    filename, headers = request.urlretrieve(\n",
    "                        url=self.config.source_url,\n",
    "                        filename=self.config.local_data_file\n",
    "                    )\n",
    "                    logging.info(f\"{filename} downloaded! Info: \\n{headers}\")\n",
    "                else:\n",
    "                    logging.info(f\"File already exists of size: {get_size(Path(self.config.local_data_file))}\")\n",
    "        except Exception as e:\n",
    "            raise CustomException(e, sys)\n",
    "\n",
    "    def extract_zip_file(self):\n",
    "        unzip_path = self.config.unzip_dir\n",
    "        try :\n",
    "            os.makedirs(unzip_path, exist_ok=True)\n",
    "            with zipfile.ZipFile(self.config.local_data_file, 'r') as zip_ref:\n",
    "                zip_ref.extractall(unzip_path)\n",
    "        except Exception as e: \n",
    "            raise CustomException(e,sys)"
   ]
  },
  {
   "cell_type": "code",
   "execution_count": 10,
   "metadata": {},
   "outputs": [
    {
     "name": "stdout",
     "output_type": "stream",
     "text": [
      "[2024-09-20 20:21:19,686] 24 root - INFO - yaml file : c:\\Users\\US593\\OneDrive\\Desktop\\deep-coccidiosis-detection\\config\\config.yaml loaded successfully\n",
      "[2024-09-20 20:21:19,688] 24 root - INFO - yaml file : c:\\Users\\US593\\OneDrive\\Desktop\\deep-coccidiosis-detection\\params.yaml loaded successfully\n",
      "[2024-09-20 20:21:19,689] 50 root - INFO - directory already exists at : c:\\Users\\US593\\OneDrive\\Desktop\\deep-coccidiosis-detection\\artifacts\n",
      "[2024-09-20 20:21:19,691] 50 root - INFO - directory already exists at : c:\\Users\\US593\\OneDrive\\Desktop\\deep-coccidiosis-detection\\artifacts\\data_ingestion\n",
      "[2024-09-20 20:21:19,818] 20 root - INFO - File copied from C:/Users/US593/Work/Datasets/Deep-Coccidiosis-Detection.zip to artifacts/data_ingestion/data.zip\n"
     ]
    }
   ],
   "source": [
    "try: \n",
    "    config = ConfigurationManager()\n",
    "    data_ingestion_config = config.get_data_ingestion_config()\n",
    "    data_ingestion = DataIngestion(data_ingestion_config)\n",
    "    data_ingestion.copy_or_download_file()\n",
    "    data_ingestion.extract_zip_file()\n",
    "except Exception as e:\n",
    "    raise CustomException(e,sys)"
   ]
  },
  {
   "cell_type": "code",
   "execution_count": null,
   "metadata": {},
   "outputs": [],
   "source": []
  },
  {
   "cell_type": "code",
   "execution_count": null,
   "metadata": {},
   "outputs": [],
   "source": []
  }
 ],
 "metadata": {
  "kernelspec": {
   "display_name": "dcd",
   "language": "python",
   "name": "python3"
  },
  "language_info": {
   "codemirror_mode": {
    "name": "ipython",
    "version": 3
   },
   "file_extension": ".py",
   "mimetype": "text/x-python",
   "name": "python",
   "nbconvert_exporter": "python",
   "pygments_lexer": "ipython3",
   "version": "3.8.19"
  }
 },
 "nbformat": 4,
 "nbformat_minor": 2
}
